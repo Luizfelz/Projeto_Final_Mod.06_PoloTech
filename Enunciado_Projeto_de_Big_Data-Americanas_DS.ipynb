{
 "cells": [
  {
   "cell_type": "markdown",
   "id": "39559cab",
   "metadata": {},
   "source": [
    "# Projeto de Big Data - Americanas DS\n",
    "#### Professores:\n",
    "- Titular: Alex Lima\n",
    "- Auxiliar: Felipe Yoshimoto"
   ]
  },
  {
   "cell_type": "markdown",
   "id": "8cb531ad",
   "metadata": {},
   "source": [
    "#### 1. **Descrição**<br>\n",
    "Este notebook contém a descrição do projeto prático do módulo: Big Data I. Neste projeto aplicaremos as técnicas aprendidas em aula para criarmos um modelo de machine learning em uma plataforma de Cloud.\n",
    "    "
   ]
  },
  {
   "cell_type": "markdown",
   "id": "65fad98b",
   "metadata": {},
   "source": [
    "#### 2. **Objetivo**<br> \n",
    "Construir um modelo de machine learning utilizando a biblioteca PySpark em um ambiente de cloud (Preferencialmente na Cloud DataBricks). A equipe tem liberdade para selecionar ou construir a base de dados, assim como das técnicas que podem ser utilizadas a construção do modelo."
   ]
  },
  {
   "cell_type": "markdown",
   "id": "ed75effb",
   "metadata": {},
   "source": [
    "#### 3. Fontes de dados sugeridas:\n",
    " - Covid19br (https://github.com/wcota/covid19br/)\n",
    " - Agência Nacional de Petróleo e Gás (https://bit.ly/3hf8rbZ)\n",
    " - DataSUS (ftp.datasus.gov.br)*\n",
    " - Dados.gov.br (https://bit.ly/3fPA1MO)\n",
    " - Kaggle (https://www.kaggle.com/)\n",
    " \n",
    "*Obs: pode ser acessado por um cliente FTP (Ex.: Filezilla)"
   ]
  },
  {
   "cell_type": "markdown",
   "id": "e171f72b",
   "metadata": {},
   "source": [
    "### Organização e entregáveis\n",
    "\n",
    "O projeto pode ser feito em grupo de até 05 participantes.<br> \n",
    "Todos os participantes devem participar ativamente do desenvolvimento e da apresentação do projeto.<br> \n",
    "O projeto completo (Notebook, código-fonte, link para fontes, bases e demais artefatos) deve ser publicado no Github.<br>\n",
    "O projeto completo (Notebook, código-fonte, link para fontes, bases e demais artefatos) deve ser enviado por e-mail (alexlimacavalera@gmail.com) com nome dos participantes e link do repositório no github.<br>"
   ]
  },
  {
   "cell_type": "markdown",
   "id": "33d9e1ee",
   "metadata": {},
   "source": [
    "### Avaliação\n",
    "\n",
    "A avaliação será feita com base nos artefatos entregues e na sua apresentação.<br>\n",
    "Entregáveis:\n",
    "- **Notebooks**\n",
    "- **Base(s) de dados**\n",
    "- Quaisquer outros artefatos diretamente relacionado ao projeto."
   ]
  },
  {
   "cell_type": "markdown",
   "id": "fc394f0b",
   "metadata": {},
   "source": [
    "#### Deadline\n",
    "**Apresentação**: 24/04/2023 <br>\n",
    "**Tempo de apresentação**: A depender da quantidade de grupos. (Aproximadamente de 15 ~ 20 minutos)"
   ]
  },
  {
   "cell_type": "code",
   "execution_count": null,
   "id": "d8823af0",
   "metadata": {},
   "outputs": [],
   "source": []
  }
 ],
 "metadata": {
  "kernelspec": {
   "display_name": "Python 3 (ipykernel)",
   "language": "python",
   "name": "python3"
  },
  "language_info": {
   "codemirror_mode": {
    "name": "ipython",
    "version": 3
   },
   "file_extension": ".py",
   "mimetype": "text/x-python",
   "name": "python",
   "nbconvert_exporter": "python",
   "pygments_lexer": "ipython3",
   "version": "3.7.15"
  }
 },
 "nbformat": 4,
 "nbformat_minor": 5
}
